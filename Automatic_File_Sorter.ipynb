{
 "cells": [
  {
   "cell_type": "markdown",
   "id": "f68c33e4",
   "metadata": {},
   "source": [
    "# AUTOMATIC FILE SORTER IN FILE EXPLORER\n"
   ]
  },
  {
   "cell_type": "markdown",
   "id": "dff40e7f",
   "metadata": {},
   "source": [
    "The script automates the sorting of different files in a directory. It creates unique folders for distinct files and compiles them accordingly."
   ]
  },
  {
   "cell_type": "code",
   "execution_count": 17,
   "id": "b6000035",
   "metadata": {},
   "outputs": [],
   "source": [
    "# Import os and shutil\n",
    "\n",
    "import os, shutil"
   ]
  },
  {
   "cell_type": "code",
   "execution_count": 18,
   "id": "ca350a20",
   "metadata": {},
   "outputs": [],
   "source": [
    "# Set the file path\n",
    "\n",
    "path = r\"C:/Users/rofia/OneDrive/Desktop/python_practice/\"\n",
    "\n",
    "# List the files in the path/directory\n",
    "file_names = os.listdir(path)"
   ]
  },
  {
   "cell_type": "code",
   "execution_count": 19,
   "id": "feae6766",
   "metadata": {},
   "outputs": [],
   "source": [
    "# Create a list that contains the names of all the different file types\n",
    "file_directories = [\"csv files\", \"text files\", \"images files\", \"pdf files\", \"word files\"]\n",
    "\n",
    "\n",
    "# loop through the file_directories list to validate that the file_directories exist in your designated folder,\n",
    "# if they don't exist, create the folders\n",
    "for loop in range(0, 5):\n",
    "    if not os.path.exists(path + file_directories[loop]):\n",
    "        os.makedirs(path + file_directories[loop])"
   ]
  },
  {
   "cell_type": "code",
   "execution_count": 20,
   "id": "04f81376",
   "metadata": {},
   "outputs": [],
   "source": [
    "# Sort the files into their unique folders\n",
    "\n",
    "for file in file_names:\n",
    "    if \".csv\" in file and not os.path.exists(path + \"csv files/\" + file):\n",
    "        shutil.move(path + file, path + \"csv files/\" + file)\n",
    "    if \".jpg\" in file and not os.path.exists(path + \"images files/\" + file):\n",
    "        shutil.move(path + file, path + \"images files/\" + file)\n",
    "    if \".txt\" in file and not os.path.exists(path + \"text files/\" + file):\n",
    "        shutil.move(path + file, path + \"text files/\" + file)\n",
    "    if \".docx\" in file and not os.path.exists(path + \"word files/\" + file):\n",
    "        shutil.move(path + file, path + \"word files/\" + file)\n",
    "    if \".pdf\" in file and not os.path.exists(path + \"pdf files/\" + file):\n",
    "        shutil.move(path + file, path + \"pdf files/\" + file)"
   ]
  },
  {
   "cell_type": "code",
   "execution_count": null,
   "id": "eeec1eee",
   "metadata": {},
   "outputs": [],
   "source": []
  }
 ],
 "metadata": {
  "kernelspec": {
   "display_name": "Python 3",
   "language": "python",
   "name": "python3"
  },
  "language_info": {
   "codemirror_mode": {
    "name": "ipython",
    "version": 3
   },
   "file_extension": ".py",
   "mimetype": "text/x-python",
   "name": "python",
   "nbconvert_exporter": "python",
   "pygments_lexer": "ipython3",
   "version": "3.8.8"
  }
 },
 "nbformat": 4,
 "nbformat_minor": 5
}
