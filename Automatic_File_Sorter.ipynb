{
 "cells": [
  {
   "cell_type": "markdown",
   "id": "8d3295db",
   "metadata": {},
   "source": [
    "# AUTOMATIC FILE SORTER IN FILE EXPLORER\n"
   ]
  },
  {
   "cell_type": "markdown",
   "id": "fb9dc4df",
   "metadata": {},
   "source": [
    "The script automates the sorting of different files in a directory. It creates unique folders for distinct files and compiles them accordingly."
   ]
  },
  {
   "cell_type": "code",
   "execution_count": 17,
   "id": "4b6d900e",
   "metadata": {},
   "outputs": [],
   "source": [
    "# Import os and shutil\n",
    "\n",
    "import os, shutil"
   ]
  },
  {
   "cell_type": "code",
   "execution_count": 18,
   "id": "e1ca9944",
   "metadata": {},
   "outputs": [],
   "source": [
    "# Set the file path\n",
    "\n",
    "path = r\"C:/Users/rofia/OneDrive/Desktop/python_practice/\"\n",
    "\n",
    "# List the files in the path/directory\n",
    "file_names = os.listdir(path)"
   ]
  },
  {
   "cell_type": "code",
   "execution_count": 19,
   "id": "f1d80f57",
   "metadata": {},
   "outputs": [],
   "source": [
    "# Create a list that contains the names of all the different file types\n",
    "file_directories = [\"csv files\", \"text files\", \"images files\", \"pdf files\", \"word files\"]\n",
    "\n",
    "\n",
    "# loop through the file_directories list to validate that the file_directories exist in your designated folder,\n",
    "# if they don't exist, create the folders\n",
    "for loop in range(0, 5):\n",
    "    if not os.path.exists(path + file_directories[loop]):\n",
    "        os.makedirs(path + file_directories[loop])"
   ]
  },
  {
   "cell_type": "code",
   "execution_count": 20,
   "id": "b6e7cbe1",
   "metadata": {},
   "outputs": [],
   "source": [
    "# Sort the files into their unique folders\n",
    "\n",
    "for file in file_names:\n",
    "    if \".csv\" in file and not os.path.exists(path + \"csv files/\" + file):\n",
    "        shutil.move(path + file, path + \"csv files/\" + file)\n",
    "    elif \".jpg\" in file and not os.path.exists(path + \"images files/\" + file):\n",
    "        shutil.move(path + file, path + \"images files/\" + file)\n",
    "    elif \".txt\" in file and not os.path.exists(path + \"text files/\" + file):\n",
    "        shutil.move(path + file, path + \"text files/\" + file)\n",
    "    elif \".docx\" in file and not os.path.exists(path + \"word files/\" + file):\n",
    "        shutil.move(path + file, path + \"word files/\" + file)\n",
    "    elif \".pdf\" in file and not os.path.exists(path + \"pdf files/\" + file):\n",
    "        shutil.move(path + file, path + \"pdf files/\" + file)"
   ]
  },
  {
   "cell_type": "code",
   "execution_count": null,
   "id": "3cc567cc",
   "metadata": {},
   "outputs": [],
   "source": []
  }
 ],
 "metadata": {
  "kernelspec": {
   "display_name": "Python 3",
   "language": "python",
   "name": "python3"
  },
  "language_info": {
   "codemirror_mode": {
    "name": "ipython",
    "version": 3
   },
   "file_extension": ".py",
   "mimetype": "text/x-python",
   "name": "python",
   "nbconvert_exporter": "python",
   "pygments_lexer": "ipython3",
   "version": "3.8.8"
  }
 },
 "nbformat": 4,
 "nbformat_minor": 5
}
