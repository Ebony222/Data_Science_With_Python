{
 "cells": [
  {
   "cell_type": "markdown",
   "id": "aa98690b",
   "metadata": {},
   "source": [
    "## HTML and Inspecting a Web Page"
   ]
  },
  {
   "cell_type": "code",
   "execution_count": 129,
   "id": "64d8acdb",
   "metadata": {},
   "outputs": [
    {
     "name": "stdout",
     "output_type": "stream",
     "text": [
      "Requirement already satisfied: bs4 in c:\\users\\rofia\\anaconda3\\lib\\site-packages (0.0.2)\n",
      "Requirement already satisfied: beautifulsoup4 in c:\\users\\rofia\\anaconda3\\lib\\site-packages (from bs4) (4.9.3)\n",
      "Requirement already satisfied: soupsieve>1.2 in c:\\users\\rofia\\anaconda3\\lib\\site-packages (from beautifulsoup4->bs4) (2.2.1)\n"
     ]
    }
   ],
   "source": [
    "!pip install bs4"
   ]
  },
  {
   "cell_type": "code",
   "execution_count": 130,
   "id": "99df465b",
   "metadata": {},
   "outputs": [],
   "source": [
    "# import beautifulsoup and requests\n",
    "from bs4 import BeautifulSoup\n",
    "import requests"
   ]
  },
  {
   "cell_type": "code",
   "execution_count": 131,
   "id": "4b088185",
   "metadata": {},
   "outputs": [],
   "source": [
    "# assign the webpage url of interest to a variable\n",
    "url = \"https://en.wikipedia.org/wiki/List_of_largest_companies_in_the_United_States_by_revenue\""
   ]
  },
  {
   "cell_type": "code",
   "execution_count": 132,
   "id": "532ab1e3",
   "metadata": {},
   "outputs": [],
   "source": [
    "# get the url page\n",
    "page = requests.get(url)"
   ]
  },
  {
   "cell_type": "code",
   "execution_count": 133,
   "id": "d8959a4e",
   "metadata": {},
   "outputs": [],
   "source": [
    "# Convert the page to a text\n",
    "soup = BeautifulSoup(page.text, \"html\")"
   ]
  },
  {
   "cell_type": "code",
   "execution_count": null,
   "id": "de8c4052",
   "metadata": {
    "scrolled": false
   },
   "outputs": [],
   "source": [
    "# Locate the code for table in the page\n",
    "soup.find_all(\"table\")"
   ]
  },
  {
   "cell_type": "code",
   "execution_count": 135,
   "id": "73e1b273",
   "metadata": {},
   "outputs": [],
   "source": [
    "# Select the table of interest\n",
    "table = soup.find_all(\"table\")[1]"
   ]
  },
  {
   "cell_type": "code",
   "execution_count": 136,
   "id": "75e6db09",
   "metadata": {},
   "outputs": [],
   "source": [
    "# Locate \"th\" in the variable table\n",
    "table_titles = table.find_all(\"th\")"
   ]
  },
  {
   "cell_type": "code",
   "execution_count": 137,
   "id": "3100c667",
   "metadata": {},
   "outputs": [],
   "source": [
    "# Map out all the column names\n",
    "table_titles = [title.text.strip() for title in table_titles]"
   ]
  },
  {
   "cell_type": "code",
   "execution_count": 138,
   "id": "559acc20",
   "metadata": {},
   "outputs": [],
   "source": [
    "# import pandas\n",
    "import pandas as pd"
   ]
  },
  {
   "cell_type": "code",
   "execution_count": 139,
   "id": "f5de080e",
   "metadata": {},
   "outputs": [],
   "source": [
    "# convert the column names to a df\n",
    "df = pd.DataFrame(columns = table_titles)"
   ]
  },
  {
   "cell_type": "code",
   "execution_count": 140,
   "id": "61cf9627",
   "metadata": {},
   "outputs": [],
   "source": [
    "# Extract the table content (rows and columns)\n",
    "row_name = table.find_all(\"tr\")"
   ]
  },
  {
   "cell_type": "code",
   "execution_count": 141,
   "id": "a41e5834",
   "metadata": {},
   "outputs": [],
   "source": [
    "# loop through the row_name to create a list for each row\n",
    "for row in row_name[1:]:\n",
    "    row_name = row.find_all(\"td\")\n",
    "    individual_row_name = [data.text.strip() for data in row_name]\n",
    "    \n",
    "    # merge the new individual_row_name to the df (column_name)                      \n",
    "    length = len(df)\n",
    "    df.loc[length] = individual_row_name"
   ]
  },
  {
   "cell_type": "code",
   "execution_count": null,
   "id": "bdc2b12f",
   "metadata": {
    "scrolled": false
   },
   "outputs": [],
   "source": [
    "# save the new df into a csv file\n",
    "df.to_csv(r\"C:/Users/rofia/OneDrive/Desktop/python_practice/Table.csv\", index = False)"
   ]
  }
 ],
 "metadata": {
  "kernelspec": {
   "display_name": "Python 3",
   "language": "python",
   "name": "python3"
  },
  "language_info": {
   "codemirror_mode": {
    "name": "ipython",
    "version": 3
   },
   "file_extension": ".py",
   "mimetype": "text/x-python",
   "name": "python",
   "nbconvert_exporter": "python",
   "pygments_lexer": "ipython3",
   "version": "3.8.8"
  }
 },
 "nbformat": 4,
 "nbformat_minor": 5
}
