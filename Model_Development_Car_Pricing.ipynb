{
 "cells": [
  {
   "cell_type": "markdown",
   "id": "9364a819",
   "metadata": {},
   "source": [
    "### Objectives\n",
    "- Use Linear Regression in one variable to fit the parameters to a model\n",
    "- Use Linear Regression in multiple variables to fit the parameters to a model\n",
    "- Use Polynomial Regression in single variable to fit the parameters to a model\n",
    "- Create a pipeline for performing linear regression using multiple features in polynomial scaling\n",
    "- Evaluate the performance of different forms of regression on basis of MSE and R^2 parameters"
   ]
  },
  {
   "cell_type": "markdown",
   "id": "feb0660d",
   "metadata": {},
   "source": [
    "### Importing Required Libraries"
   ]
  },
  {
   "cell_type": "code",
   "execution_count": 1,
   "id": "83a4d875",
   "metadata": {},
   "outputs": [],
   "source": [
    "import pandas as pd\n",
    "import numpy as np\n",
    "import matplotlib.pyplot as plt\n",
    "import seaborn as sns\n",
    "from sklearn.linear_model import LinearRegression\n",
    "from sklearn.preprocessing import StandardScaler, PolynomialFeatures\n",
    "from sklearn.pipeline import Pipeline\n",
    "from sklearn.metrics import mean_squared_error, r2_score\n",
    "import warnings\n",
    "warnings.filterwarnings(\"ignore\", category=UserWarning) \n",
    "%matplotlib inline"
   ]
  },
  {
   "cell_type": "markdown",
   "id": "b1138ad7",
   "metadata": {},
   "source": [
    "### Importing the dataset"
   ]
  },
  {
   "cell_type": "code",
   "execution_count": 3,
   "id": "5e713666",
   "metadata": {},
   "outputs": [
    {
     "data": {
      "text/html": [
       "<div>\n",
       "<style scoped>\n",
       "    .dataframe tbody tr th:only-of-type {\n",
       "        vertical-align: middle;\n",
       "    }\n",
       "\n",
       "    .dataframe tbody tr th {\n",
       "        vertical-align: top;\n",
       "    }\n",
       "\n",
       "    .dataframe thead th {\n",
       "        text-align: right;\n",
       "    }\n",
       "</style>\n",
       "<table border=\"1\" class=\"dataframe\">\n",
       "  <thead>\n",
       "    <tr style=\"text-align: right;\">\n",
       "      <th></th>\n",
       "      <th>Unnamed: 0</th>\n",
       "      <th>Unnamed: 0.1</th>\n",
       "      <th>Manufacturer</th>\n",
       "      <th>Category</th>\n",
       "      <th>GPU</th>\n",
       "      <th>OS</th>\n",
       "      <th>CPU_core</th>\n",
       "      <th>Screen_Size_inch</th>\n",
       "      <th>CPU_frequency</th>\n",
       "      <th>RAM_GB</th>\n",
       "      <th>Storage_GB_SSD</th>\n",
       "      <th>Weight_pounds</th>\n",
       "      <th>Price</th>\n",
       "      <th>Price-binned</th>\n",
       "      <th>Screen-Full_HD</th>\n",
       "      <th>Screen-IPS_panel</th>\n",
       "    </tr>\n",
       "  </thead>\n",
       "  <tbody>\n",
       "    <tr>\n",
       "      <th>0</th>\n",
       "      <td>0</td>\n",
       "      <td>0</td>\n",
       "      <td>Acer</td>\n",
       "      <td>4</td>\n",
       "      <td>2</td>\n",
       "      <td>1</td>\n",
       "      <td>5</td>\n",
       "      <td>14.0</td>\n",
       "      <td>0.551724</td>\n",
       "      <td>8</td>\n",
       "      <td>256</td>\n",
       "      <td>3.52800</td>\n",
       "      <td>978</td>\n",
       "      <td>Low</td>\n",
       "      <td>0</td>\n",
       "      <td>1</td>\n",
       "    </tr>\n",
       "    <tr>\n",
       "      <th>1</th>\n",
       "      <td>1</td>\n",
       "      <td>1</td>\n",
       "      <td>Dell</td>\n",
       "      <td>3</td>\n",
       "      <td>1</td>\n",
       "      <td>1</td>\n",
       "      <td>3</td>\n",
       "      <td>15.6</td>\n",
       "      <td>0.689655</td>\n",
       "      <td>4</td>\n",
       "      <td>256</td>\n",
       "      <td>4.85100</td>\n",
       "      <td>634</td>\n",
       "      <td>Low</td>\n",
       "      <td>1</td>\n",
       "      <td>0</td>\n",
       "    </tr>\n",
       "    <tr>\n",
       "      <th>2</th>\n",
       "      <td>2</td>\n",
       "      <td>2</td>\n",
       "      <td>Dell</td>\n",
       "      <td>3</td>\n",
       "      <td>1</td>\n",
       "      <td>1</td>\n",
       "      <td>7</td>\n",
       "      <td>15.6</td>\n",
       "      <td>0.931034</td>\n",
       "      <td>8</td>\n",
       "      <td>256</td>\n",
       "      <td>4.85100</td>\n",
       "      <td>946</td>\n",
       "      <td>Low</td>\n",
       "      <td>1</td>\n",
       "      <td>0</td>\n",
       "    </tr>\n",
       "    <tr>\n",
       "      <th>3</th>\n",
       "      <td>3</td>\n",
       "      <td>3</td>\n",
       "      <td>Dell</td>\n",
       "      <td>4</td>\n",
       "      <td>2</td>\n",
       "      <td>1</td>\n",
       "      <td>5</td>\n",
       "      <td>13.3</td>\n",
       "      <td>0.551724</td>\n",
       "      <td>8</td>\n",
       "      <td>128</td>\n",
       "      <td>2.69010</td>\n",
       "      <td>1244</td>\n",
       "      <td>Low</td>\n",
       "      <td>0</td>\n",
       "      <td>1</td>\n",
       "    </tr>\n",
       "    <tr>\n",
       "      <th>4</th>\n",
       "      <td>4</td>\n",
       "      <td>4</td>\n",
       "      <td>HP</td>\n",
       "      <td>4</td>\n",
       "      <td>2</td>\n",
       "      <td>1</td>\n",
       "      <td>7</td>\n",
       "      <td>15.6</td>\n",
       "      <td>0.620690</td>\n",
       "      <td>8</td>\n",
       "      <td>256</td>\n",
       "      <td>4.21155</td>\n",
       "      <td>837</td>\n",
       "      <td>Low</td>\n",
       "      <td>1</td>\n",
       "      <td>0</td>\n",
       "    </tr>\n",
       "    <tr>\n",
       "      <th>...</th>\n",
       "      <td>...</td>\n",
       "      <td>...</td>\n",
       "      <td>...</td>\n",
       "      <td>...</td>\n",
       "      <td>...</td>\n",
       "      <td>...</td>\n",
       "      <td>...</td>\n",
       "      <td>...</td>\n",
       "      <td>...</td>\n",
       "      <td>...</td>\n",
       "      <td>...</td>\n",
       "      <td>...</td>\n",
       "      <td>...</td>\n",
       "      <td>...</td>\n",
       "      <td>...</td>\n",
       "      <td>...</td>\n",
       "    </tr>\n",
       "    <tr>\n",
       "      <th>233</th>\n",
       "      <td>233</td>\n",
       "      <td>233</td>\n",
       "      <td>Lenovo</td>\n",
       "      <td>4</td>\n",
       "      <td>2</td>\n",
       "      <td>1</td>\n",
       "      <td>7</td>\n",
       "      <td>14.0</td>\n",
       "      <td>0.896552</td>\n",
       "      <td>8</td>\n",
       "      <td>256</td>\n",
       "      <td>3.74850</td>\n",
       "      <td>1891</td>\n",
       "      <td>Medium</td>\n",
       "      <td>0</td>\n",
       "      <td>1</td>\n",
       "    </tr>\n",
       "    <tr>\n",
       "      <th>234</th>\n",
       "      <td>234</td>\n",
       "      <td>234</td>\n",
       "      <td>Toshiba</td>\n",
       "      <td>3</td>\n",
       "      <td>2</td>\n",
       "      <td>1</td>\n",
       "      <td>5</td>\n",
       "      <td>13.3</td>\n",
       "      <td>0.827586</td>\n",
       "      <td>8</td>\n",
       "      <td>256</td>\n",
       "      <td>2.64600</td>\n",
       "      <td>1950</td>\n",
       "      <td>Medium</td>\n",
       "      <td>1</td>\n",
       "      <td>0</td>\n",
       "    </tr>\n",
       "    <tr>\n",
       "      <th>235</th>\n",
       "      <td>235</td>\n",
       "      <td>235</td>\n",
       "      <td>Lenovo</td>\n",
       "      <td>4</td>\n",
       "      <td>2</td>\n",
       "      <td>1</td>\n",
       "      <td>5</td>\n",
       "      <td>12.0</td>\n",
       "      <td>0.896552</td>\n",
       "      <td>8</td>\n",
       "      <td>256</td>\n",
       "      <td>2.99880</td>\n",
       "      <td>2236</td>\n",
       "      <td>Medium</td>\n",
       "      <td>0</td>\n",
       "      <td>1</td>\n",
       "    </tr>\n",
       "    <tr>\n",
       "      <th>236</th>\n",
       "      <td>236</td>\n",
       "      <td>236</td>\n",
       "      <td>Lenovo</td>\n",
       "      <td>3</td>\n",
       "      <td>3</td>\n",
       "      <td>1</td>\n",
       "      <td>5</td>\n",
       "      <td>15.6</td>\n",
       "      <td>0.862069</td>\n",
       "      <td>6</td>\n",
       "      <td>256</td>\n",
       "      <td>5.29200</td>\n",
       "      <td>883</td>\n",
       "      <td>Low</td>\n",
       "      <td>1</td>\n",
       "      <td>0</td>\n",
       "    </tr>\n",
       "    <tr>\n",
       "      <th>237</th>\n",
       "      <td>237</td>\n",
       "      <td>237</td>\n",
       "      <td>Toshiba</td>\n",
       "      <td>3</td>\n",
       "      <td>2</td>\n",
       "      <td>1</td>\n",
       "      <td>5</td>\n",
       "      <td>14.0</td>\n",
       "      <td>0.793103</td>\n",
       "      <td>8</td>\n",
       "      <td>256</td>\n",
       "      <td>4.29975</td>\n",
       "      <td>1499</td>\n",
       "      <td>Low</td>\n",
       "      <td>1</td>\n",
       "      <td>0</td>\n",
       "    </tr>\n",
       "  </tbody>\n",
       "</table>\n",
       "<p>238 rows × 16 columns</p>\n",
       "</div>"
      ],
      "text/plain": [
       "     Unnamed: 0  Unnamed: 0.1 Manufacturer  Category  GPU  OS  CPU_core  \\\n",
       "0             0             0         Acer         4    2   1         5   \n",
       "1             1             1         Dell         3    1   1         3   \n",
       "2             2             2         Dell         3    1   1         7   \n",
       "3             3             3         Dell         4    2   1         5   \n",
       "4             4             4           HP         4    2   1         7   \n",
       "..          ...           ...          ...       ...  ...  ..       ...   \n",
       "233         233           233       Lenovo         4    2   1         7   \n",
       "234         234           234      Toshiba         3    2   1         5   \n",
       "235         235           235       Lenovo         4    2   1         5   \n",
       "236         236           236       Lenovo         3    3   1         5   \n",
       "237         237           237      Toshiba         3    2   1         5   \n",
       "\n",
       "     Screen_Size_inch  CPU_frequency  RAM_GB  Storage_GB_SSD  Weight_pounds  \\\n",
       "0                14.0       0.551724       8             256        3.52800   \n",
       "1                15.6       0.689655       4             256        4.85100   \n",
       "2                15.6       0.931034       8             256        4.85100   \n",
       "3                13.3       0.551724       8             128        2.69010   \n",
       "4                15.6       0.620690       8             256        4.21155   \n",
       "..                ...            ...     ...             ...            ...   \n",
       "233              14.0       0.896552       8             256        3.74850   \n",
       "234              13.3       0.827586       8             256        2.64600   \n",
       "235              12.0       0.896552       8             256        2.99880   \n",
       "236              15.6       0.862069       6             256        5.29200   \n",
       "237              14.0       0.793103       8             256        4.29975   \n",
       "\n",
       "     Price Price-binned  Screen-Full_HD  Screen-IPS_panel  \n",
       "0      978          Low               0                 1  \n",
       "1      634          Low               1                 0  \n",
       "2      946          Low               1                 0  \n",
       "3     1244          Low               0                 1  \n",
       "4      837          Low               1                 0  \n",
       "..     ...          ...             ...               ...  \n",
       "233   1891       Medium               0                 1  \n",
       "234   1950       Medium               1                 0  \n",
       "235   2236       Medium               0                 1  \n",
       "236    883          Low               1                 0  \n",
       "237   1499          Low               1                 0  \n",
       "\n",
       "[238 rows x 16 columns]"
      ]
     },
     "execution_count": 3,
     "metadata": {},
     "output_type": "execute_result"
    }
   ],
   "source": [
    "file_path = \"https://cf-courses-data.s3.us.cloud-object-storage.appdomain.cloud/IBMDeveloperSkillsNetwork-DA0101EN-Coursera/laptop_pricing_dataset_mod2.csv\"\n",
    "df = pd.read_csv(file_path, header=0)\n",
    "df"
   ]
  },
  {
   "cell_type": "markdown",
   "id": "53ed73c4",
   "metadata": {},
   "source": [
    "## 1. Single Linear Regression (SLR)"
   ]
  },
  {
   "cell_type": "markdown",
   "id": "e97189d6",
   "metadata": {},
   "source": [
    "Since CPU_frequency is the feature with the lowest p-value among the other independent variables in the dataset. Construct a linear Regression Model using **\"CPU_frequency\"** for prediction."
   ]
  },
  {
   "cell_type": "code",
   "execution_count": 11,
   "id": "11459472",
   "metadata": {
    "collapsed": true
   },
   "outputs": [
    {
     "data": {
      "text/plain": [
       "array([1073.07834392, 1277.93263722, 1636.42765051, 1073.07834392,\n",
       "       1175.50549057, 1073.07834392, 1073.07834392, 1073.07834392,\n",
       "       1534.00050386, 1175.50549057, 1175.50549057, 1277.93263722,\n",
       "       1277.93263722, 1073.07834392, 1073.07834392, 1534.00050386,\n",
       "       1175.50549057, 1175.50549057, 1073.07834392, 1073.07834392,\n",
       "       1175.50549057, 1534.00050386, 1175.50549057, 1534.00050386,\n",
       "       1636.42765051, 1277.93263722, 1482.78693053, 1636.42765051,\n",
       "       1636.42765051, 1534.00050386, 1636.42765051, 1636.42765051,\n",
       "       1073.07834392, 1175.50549057, 1073.07834392, 1175.50549057,\n",
       "       1636.42765051, 1175.50549057, 1534.00050386, 1073.07834392,\n",
       "       1175.50549057, 1636.42765051, 1073.07834392, 1073.07834392,\n",
       "       1073.07834392, 1687.64122384, 1073.07834392, 1534.00050386,\n",
       "       1073.07834392, 1073.07834392,  868.22405061, 1175.50549057,\n",
       "       1175.50549057, 1175.50549057, 1175.50549057, 1073.07834392,\n",
       "       1073.07834392, 1534.00050386, 1636.42765051, 1534.00050386,\n",
       "       1534.00050386, 1636.42765051, 1534.00050386, 1534.00050386,\n",
       "       1738.85479716, 1636.42765051, 1073.07834392, 1175.50549057,\n",
       "       1175.50549057, 1534.00050386, 1534.00050386, 1175.50549057,\n",
       "       1636.42765051, 1534.00050386, 1687.64122384, 1073.07834392,\n",
       "       1687.64122384, 1738.85479716, 1534.00050386, 1534.00050386,\n",
       "       1534.00050386, 1636.42765051, 1636.42765051, 1636.42765051,\n",
       "       1636.42765051, 1534.00050386, 1687.64122384, 1585.21407718,\n",
       "       1534.00050386, 1073.07834392, 1175.50549057, 1636.42765051,\n",
       "       1687.64122384, 1585.21407718, 1534.00050386, 1636.42765051,\n",
       "       1636.42765051, 1534.00050386, 1482.78693053, 1636.42765051,\n",
       "       1687.64122384, 1636.42765051, 1175.50549057, 1534.00050386,\n",
       "       1687.64122384, 1534.00050386, 1534.00050386, 1175.50549057,\n",
       "       1738.85479716, 1687.64122384, 1636.42765051, 1636.42765051,\n",
       "       1534.00050386, 1073.07834392, 1534.00050386, 1687.64122384,\n",
       "       1534.00050386, 1636.42765051, 1534.00050386, 1738.85479716,\n",
       "       1073.07834392, 1687.64122384, 1534.00050386, 1073.07834392,\n",
       "       1073.07834392, 1534.00050386, 1175.50549057, 1482.78693053,\n",
       "       1534.00050386, 1534.00050386, 1534.00050386, 1534.00050386,\n",
       "       1636.42765051, 1585.21407718, 1431.5733572 , 1687.64122384,\n",
       "       1687.64122384, 1073.07834392, 1636.42765051, 1277.93263722,\n",
       "       1482.78693053, 1277.93263722, 1534.00050386, 1636.42765051,\n",
       "       1687.64122384, 1534.00050386, 1636.42765051, 1482.78693053,\n",
       "       1687.64122384, 1585.21407718, 1534.00050386, 1687.64122384,\n",
       "       1636.42765051, 1534.00050386, 1534.00050386, 1431.5733572 ,\n",
       "       1687.64122384, 1073.07834392, 1534.00050386, 1687.64122384,\n",
       "       1431.5733572 , 1636.42765051, 1073.07834392, 1175.50549057,\n",
       "       1482.78693053, 1534.00050386, 1534.00050386, 1534.00050386,\n",
       "       1534.00050386, 1277.93263722, 1534.00050386, 1534.00050386,\n",
       "       1534.00050386, 1431.5733572 , 1687.64122384, 1534.00050386,\n",
       "       1585.21407718, 1636.42765051, 1534.00050386, 1534.00050386,\n",
       "       1687.64122384, 1534.00050386, 1636.42765051, 1277.93263722,\n",
       "       1482.78693053, 1585.21407718, 1687.64122384, 1636.42765051,\n",
       "       1636.42765051, 1482.78693053, 1534.00050386, 1277.93263722,\n",
       "       1687.64122384, 1534.00050386, 1534.00050386, 1534.00050386,\n",
       "       1534.00050386, 1636.42765051, 1534.00050386, 1482.78693053,\n",
       "       1431.5733572 , 1585.21407718, 1636.42765051, 1687.64122384,\n",
       "       1636.42765051, 1534.00050386, 1585.21407718, 1534.00050386,\n",
       "       1534.00050386, 1636.42765051, 1636.42765051, 1687.64122384,\n",
       "       1431.5733572 , 1534.00050386, 1534.00050386, 1636.42765051,\n",
       "       1534.00050386, 1534.00050386, 1687.64122384, 1636.42765051,\n",
       "       1636.42765051, 1534.00050386, 1534.00050386, 1534.00050386,\n",
       "       1585.21407718, 1636.42765051, 1431.5733572 , 1431.5733572 ,\n",
       "       1431.5733572 , 1534.00050386, 1534.00050386, 1687.64122384,\n",
       "       1431.5733572 , 1585.21407718, 1482.78693053, 1585.21407718,\n",
       "       1534.00050386, 1431.5733572 ])"
      ]
     },
     "execution_count": 11,
     "metadata": {},
     "output_type": "execute_result"
    }
   ],
   "source": [
    "# Create a linear regression object\n",
    "lm = LinearRegression()\n",
    "\n",
    "X = df[[\"CPU_frequency\"]]\n",
    "Y = df[\"Price\"]\n",
    "\n",
    "# Fit the model with the independent variables\n",
    "lm.fit(X,Y)\n",
    "\n",
    "# Make a prediction\n",
    "Yhat=lm.predict(X)\n",
    "Yhat"
   ]
  },
  {
   "cell_type": "code",
   "execution_count": 10,
   "id": "75e80367",
   "metadata": {},
   "outputs": [
    {
     "name": "stderr",
     "output_type": "stream",
     "text": [
      "C:\\Users\\rofia\\anaconda3\\lib\\site-packages\\seaborn\\distributions.py:2557: FutureWarning: `distplot` is a deprecated function and will be removed in a future version. Please adapt your code to use either `displot` (a figure-level function with similar flexibility) or `kdeplot` (an axes-level function for kernel density plots).\n",
      "  warnings.warn(msg, FutureWarning)\n",
      "C:\\Users\\rofia\\anaconda3\\lib\\site-packages\\seaborn\\distributions.py:2557: FutureWarning: `distplot` is a deprecated function and will be removed in a future version. Please adapt your code to use either `displot` (a figure-level function with similar flexibility) or `kdeplot` (an axes-level function for kernel density plots).\n",
      "  warnings.warn(msg, FutureWarning)\n"
     ]
    },
    {
     "data": {
      "image/png": "[encoded data removed]",
      "text/plain": [
       "<Figure size 432x288 with 1 Axes>"
      ]
     },
     "metadata": {
      "needs_background": "light"
     },
     "output_type": "display_data"
    }
   ],
   "source": [
    "# Generate a distribution plot for the result\n",
    "ax1 = sns.distplot(df['Price'], hist=False, color=\"r\", label=\"Actual Value\")\n",
    "\n",
    "# Create a distribution plot for predicted values\n",
    "sns.distplot(Yhat, hist=False, color=\"b\", label=\"Fitted Values\" , ax=ax1)\n",
    "\n",
    "plt.title('Actual vs Fitted Values for Price')\n",
    "plt.xlabel('Price')\n",
    "plt.ylabel('Proportion of laptops')\n",
    "plt.legend(['Actual Value', 'Predicted Value'])\n",
    "plt.show()"
   ]
  },
  {
   "cell_type": "code",
   "execution_count": 12,
   "id": "88e41392",
   "metadata": {},
   "outputs": [
    {
     "name": "stdout",
     "output_type": "stream",
     "text": [
      "The R-square for Linear Regression is:  0.1344436321024326\n",
      "The mean square error of price and predicted value is:  284583.4405868629\n"
     ]
    }
   ],
   "source": [
    "# Evaluate the Mean Squared Error and R^2 score values for the model.\n",
    "mse_slr = mean_squared_error(df['Price'], Yhat)\n",
    "r2_score_slr = lm.score(X, Y)\n",
    "print('The R-square for Linear Regression is: ', r2_score_slr)\n",
    "print('The mean square error of price and predicted value is: ', mse_slr)"
   ]
  },
  {
   "cell_type": "markdown",
   "id": "f004db59",
   "metadata": {},
   "source": [
    "## 2. Multiple Linear Regression (MLR)"
   ]
  },
  {
   "cell_type": "markdown",
   "id": "47e52142",
   "metadata": {},
   "source": [
    "The parameters which have a low enough p-value so as to indicate strong relationship with the **'Price'** value are **'CPU_frequency', 'RAM_GB', 'Storage_GB_SSD', 'CPU_core', 'OS', 'GPU' and 'Category'**. Use all these variables to create a Multiple Linear Regression system."
   ]
  },
  {
   "cell_type": "code",
   "execution_count": 14,
   "id": "a1ffd8e1",
   "metadata": {
    "collapsed": true
   },
   "outputs": [
    {
     "data": {
      "text/plain": [
       "array([1345.51622771,  710.44905496, 1552.37242687, 1295.00681012,\n",
       "       1543.13847022, 1056.42067418, 1252.02084839,  806.98504446,\n",
       "       1007.51446753, 1449.64309091, 1254.0429167 ,  757.73972448,\n",
       "        380.80382381, 1345.51622771, 1154.22076129, 1452.55027146,\n",
       "       1445.33838312, 1254.0429167 , 1345.51622771, 1154.22076129,\n",
       "       1640.93855733, 1452.55027146, 1543.13847022, 1167.75942573,\n",
       "       1841.4679804 ,  283.00373671, 1212.25798099, 1552.37242687,\n",
       "       1939.2680675 , 1376.73250015, 1939.2680675 , 1650.17251398,\n",
       "       1345.51622771, 1449.64309091, 1154.22076129, 1543.13847022,\n",
       "       1138.08329264, 1351.8430038 , 1105.31455464, 1056.42067418,\n",
       "       1543.13847022, 1362.90546776,  882.80281577,  904.78513157,\n",
       "       1056.42067418, 2093.00082524, 1252.02084839, 1643.84573788,\n",
       "       1252.02084839, 1345.51622771, 1212.9253343 , 1449.64309091,\n",
       "       1543.13847022, 1445.33838312, 1449.64309091, 1345.51622771,\n",
       "        628.97535593, 1775.17253369, 1747.97260108, 1550.35035857,\n",
       "       1452.55027146, 1819.39854227, 1167.75942573, 1167.75942573,\n",
       "       2126.14854859, 1138.08329264, 1345.51622771, 1351.8430038 ,\n",
       "        826.59759845, 1167.75942573, 1278.93241305, 1449.64309091,\n",
       "       1650.17251398, 1741.64582499, 1781.12032443, 1154.22076129,\n",
       "       1353.67500618, 2891.33041427, 1681.67715437, 1452.55027146,\n",
       "       1452.55027146, 1650.17251398, 1650.17251398, 1939.2680675 ,\n",
       "       1841.4679804 , 1452.55027146, 1398.52939159, 1485.69799481,\n",
       "       1452.55027146, 1252.02084839, 1543.13847022, 1650.17251398,\n",
       "       2163.71125727, 1485.69799481, 1452.55027146, 1552.37242687,\n",
       "       1841.4679804 , 1550.35035857,  890.33061789, 2130.56353392,\n",
       "       1398.52939159, 1124.92710862, 1254.0429167 , 1452.55027146,\n",
       "       1353.67500618,  580.06914928, 1775.17253369, 1445.33838312,\n",
       "       1716.46796068, 1447.1703855 , 1650.17251398,  989.77378795,\n",
       "        677.86923639,  709.18495736, 1643.84573788, 1649.79352862,\n",
       "       1167.75942573, 2825.03496757, 1452.55027146, 1814.26804778,\n",
       "       1345.51622771, 2163.71125727, 1452.55027146,  756.47562688,\n",
       "       1154.22076129, 1550.35035857, 1351.8430038 , 1288.0757523 ,\n",
       "       1452.55027146, 1452.55027146, 1593.3363203 , 1550.35035857,\n",
       "       1841.4679804 , 1485.69799481, 1386.25482476, 1551.99344152,\n",
       "       1781.12032443, 1056.42067418, 1747.97260108,  757.73972448,\n",
       "        890.33061789,  757.73972448, 1452.55027146,  989.77378795,\n",
       "       1781.12032443, 1452.55027146, 1124.92710862,  890.33061789,\n",
       "       2475.59175808, 2155.55597387, 1452.55027146, 2163.71125727,\n",
       "       1650.17251398, 1583.87706727,  529.5597317 , 1386.25482476,\n",
       "       1781.12032443,  806.98504446, 1643.84573788, 2093.00082524,\n",
       "       1386.25482476, 1841.4679804 , 1345.51622771, 1254.0429167 ,\n",
       "       1419.40254811, 1452.55027146, 1643.84573788, 1862.23085937,\n",
       "       1167.75942573,  710.44905496, 1105.31455464, 1452.55027146,\n",
       "       1452.55027146, 1386.25482476, 1222.34821037, 1550.35035857,\n",
       "       1485.69799481, 1747.97260108, 1643.84573788, 1452.55027146,\n",
       "       2858.18269092, 1452.55027146, 2535.93941404, 1155.48485889,\n",
       "       1419.40254811, 2097.41581057, 2569.0871374 , 1841.4679804 ,\n",
       "       2246.84386052,  890.33061789, 1167.75942573, 1057.68477179,\n",
       "       2163.71125727, 1452.55027146, 1643.84573788, 1643.84573788,\n",
       "       1354.75018436, 1841.4679804 , 1167.75942573, 1237.56633472,\n",
       "       1386.25482476, 1485.69799481, 1205.13671005, 1972.41579085,\n",
       "       1747.97260108, 1402.04085388, 1387.89790771, 1054.80513705,\n",
       "       1452.55027146, 1650.17251398, 2633.73950115, 1874.61570375,\n",
       "       1675.35037828, 1105.31455464, 1054.80513705, 1841.4679804 ,\n",
       "       1643.84573788, 1452.55027146, 1551.99344152, 1574.35474267,\n",
       "       1747.97260108, 1054.80513705, 1452.55027146, 1677.37244659,\n",
       "       2409.29631137, 1841.4679804 , 1386.25482476,  988.50969035,\n",
       "       1194.95935834, 1643.84573788, 1643.84573788, 1874.61570375,\n",
       "       1386.25482476, 1808.32025704, 1419.40254811, 1676.99346123,\n",
       "       1376.73250015, 1386.25482476])"
      ]
     },
     "execution_count": 14,
     "metadata": {},
     "output_type": "execute_result"
    }
   ],
   "source": [
    "# Create the linear Regressioon object\n",
    "lm1 = LinearRegression()\n",
    "\n",
    "# Fit the model with the independent variables\n",
    "Z = df[['CPU_frequency','RAM_GB','Storage_GB_SSD','CPU_core','OS','GPU','Category']]\n",
    "\n",
    "lm1.fit(Z, df[\"Price\"])\n",
    "\n",
    "# Make a  prediction\n",
    "Yhat = lm1.predict(Z)\n",
    "Yhat"
   ]
  },
  {
   "cell_type": "code",
   "execution_count": 16,
   "id": "8b432554",
   "metadata": {},
   "outputs": [
    {
     "name": "stderr",
     "output_type": "stream",
     "text": [
      "C:\\Users\\rofia\\anaconda3\\lib\\site-packages\\seaborn\\distributions.py:2557: FutureWarning: `distplot` is a deprecated function and will be removed in a future version. Please adapt your code to use either `displot` (a figure-level function with similar flexibility) or `kdeplot` (an axes-level function for kernel density plots).\n",
      "  warnings.warn(msg, FutureWarning)\n",
      "C:\\Users\\rofia\\anaconda3\\lib\\site-packages\\seaborn\\distributions.py:2557: FutureWarning: `distplot` is a deprecated function and will be removed in a future version. Please adapt your code to use either `displot` (a figure-level function with similar flexibility) or `kdeplot` (an axes-level function for kernel density plots).\n",
      "  warnings.warn(msg, FutureWarning)\n"
     ]
    },
    {
     "data": {
      "image/png": "[encoded data removed]",
      "text/plain": [
       "<Figure size 432x288 with 1 Axes>"
      ]
     },
     "metadata": {
      "needs_background": "light"
     },
     "output_type": "display_data"
    }
   ],
   "source": [
    "# Plot the Distribution graph of the predicted values as well as the Actual values\n",
    "\n",
    "ax1 = sns.distplot(df[\"Price\"], hist=False, color=\"r\", label=\"Actual Value\")\n",
    "sns.distplot(Yhat, hist=False, color=\"b\", label=\"Fitted Values\", ax=ax1)\n",
    "\n",
    "plt.title(\"Actual vs Fitted Values for Price\")\n",
    "plt.xlabel(\"Price\")\n",
    "plt.ylabel(\"Proportion of Laptops\")\n",
    "plt.legend(['Actual Value', 'Predicted Value'])\n",
    "plt.show()"
   ]
  },
  {
   "cell_type": "code",
   "execution_count": 21,
   "id": "29393c5e",
   "metadata": {},
   "outputs": [
    {
     "name": "stdout",
     "output_type": "stream",
     "text": [
      "The R-square for Linear Regression is:  0.5082509055187374\n",
      "The mean square error of price and predicted value is:  161680.57263893107\n"
     ]
    }
   ],
   "source": [
    "# Evaluate the MSE and R^2 for this fit\n",
    "mse_mlr = mean_squared_error(df['Price'], Yhat)\n",
    "r2_score_mlr = lm1.score(Z, Y)\n",
    "print('The R-square for Linear Regression is: ', r2_score_mlr)\n",
    "print('The mean square error of price and predicted value is: ', mse_mlr)"
   ]
  },
  {
   "cell_type": "markdown",
   "id": "65f84b25",
   "metadata": {},
   "source": [
    "## 3. Polynomial Regression\n",
    "Using 3 different values of polynomial degrees, create polynomial features using \"CPU_frequency\""
   ]
  },
  {
   "cell_type": "code",
   "execution_count": 22,
   "id": "6167734d",
   "metadata": {},
   "outputs": [],
   "source": [
    "# Create a polynomial features using \"CPU_frequency\"\n",
    "X = df[\"CPU_frequency\"]\n",
    "Y = df[\"Price\"]\n",
    "\n",
    "X = X.to_numpy().flatten()\n",
    "\n",
    "# 1 degree\n",
    "f1 = np.polyfit(X, Y, 1)\n",
    "p1 = np.poly1d(f1)\n",
    "\n",
    "# 3 degrees\n",
    "f3 = np.polyfit(X, Y, 3)\n",
    "p3 = np.poly1d(f3)\n",
    "\n",
    "# 5 degrees\n",
    "f5 = np.polyfit(X, Y, 5)\n",
    "p5 = np.poly1d(f5)"
   ]
  },
  {
   "cell_type": "markdown",
   "id": "d226be83",
   "metadata": {},
   "source": [
    "Plot the Regression output against the actual data points using PlotPolly function."
   ]
  },
  {
   "cell_type": "code",
   "execution_count": 28,
   "id": "9cd38c1e",
   "metadata": {},
   "outputs": [],
   "source": [
    "# Create a function to generate the regression plot \n",
    "def PlotPolly(model, independent_variable, dependent_variabble, Name):\n",
    "    x_new = np.linspace(independent_variable.min(),independent_variable.max(),100)\n",
    "    y_new = model(x_new)\n",
    "\n",
    "    plt.plot(independent_variable, dependent_variabble, '.', x_new, y_new, '-')\n",
    "    plt.title(f'Polynomial Fit for Price ~ {Name}')\n",
    "    ax = plt.gca()\n",
    "    ax.set_facecolor((0.898, 0.898, 0.898))\n",
    "    fig = plt.gcf()\n",
    "    plt.xlabel(Name)\n",
    "    plt.ylabel('Price of laptops')"
   ]
  },
  {
   "cell_type": "code",
   "execution_count": 25,
   "id": "bbee724b",
   "metadata": {},
   "outputs": [
    {
     "data": {
      "image/png": "[encoded data removed]",
      "text/plain": [
       "<Figure size 432x288 with 1 Axes>"
      ]
     },
     "metadata": {
      "needs_background": "light"
     },
     "output_type": "display_data"
    }
   ],
   "source": [
    "# Polynomial fit for degree 1\n",
    "PlotPolly(p1, X, Y, 'CPU_frequency')"
   ]
  },
  {
   "cell_type": "code",
   "execution_count": 26,
   "id": "c76d4ea8",
   "metadata": {},
   "outputs": [
    {
     "data": {
      "image/png": "[encoded data removed]",
      "text/plain": [
       "<Figure size 432x288 with 1 Axes>"
      ]
     },
     "metadata": {
      "needs_background": "light"
     },
     "output_type": "display_data"
    }
   ],
   "source": [
    "# Polynomial fit for degree 3\n",
    "PlotPolly(p3, X, Y, 'CPU_frequency')"
   ]
  },
  {
   "cell_type": "code",
   "execution_count": 27,
   "id": "dffbb23c",
   "metadata": {},
   "outputs": [
    {
     "data": {
      "image/png": "[encoded data removed]",
      "text/plain": [
       "<Figure size 432x288 with 1 Axes>"
      ]
     },
     "metadata": {
      "needs_background": "light"
     },
     "output_type": "display_data"
    }
   ],
   "source": [
    "# Polynomial fit for degree 5\n",
    "PlotPolly(p5, X, Y, 'CPU_frequency')"
   ]
  },
  {
   "cell_type": "code",
   "execution_count": 29,
   "id": "c8f94dfb",
   "metadata": {},
   "outputs": [
    {
     "name": "stdout",
     "output_type": "stream",
     "text": [
      "The R-square value for 1st degree polynomial is:  0.1344436321024326\n",
      "The MSE value for 1st degree polynomial is:  284583.4405868629\n",
      "The R-square value for 3rd degree polynomial is:  0.26692640796531053\n",
      "The MSE value for 3rd degree polynomial is:  241024.86303848788\n",
      "The R-square value for 5th degree polynomial is:  0.3030822706442695\n",
      "The MSE value for 5th degree polynomial is:  229137.29548057468\n"
     ]
    }
   ],
   "source": [
    "# Calculate the MSE and R^2 using the sklearn.metrics function\n",
    "r_squared_1 = r2_score(Y, p1(X))\n",
    "print('The R-square value for 1st degree polynomial is: ', r_squared_1)\n",
    "print('The MSE value for 1st degree polynomial is: ', mean_squared_error(Y,p1(X)))\n",
    "\n",
    "r_squared_3 = r2_score(Y, p3(X))\n",
    "print('The R-square value for 3rd degree polynomial is: ', r_squared_3)\n",
    "print('The MSE value for 3rd degree polynomial is: ', mean_squared_error(Y,p3(X)))\n",
    "\n",
    "r_squared_5 = r2_score(Y, p5(X))\n",
    "print('The R-square value for 5th degree polynomial is: ', r_squared_5)\n",
    "print('The MSE value for 5th degree polynomial is: ', mean_squared_error(Y,p5(X)))\n"
   ]
  },
  {
   "cell_type": "markdown",
   "id": "c3e5ca2b",
   "metadata": {},
   "source": [
    "## 4. Pipeline\n",
    "Create a pipeline that performs parameter scaling, Polynomial Feature generation and Linear regression using the multiple features."
   ]
  },
  {
   "cell_type": "code",
   "execution_count": 30,
   "id": "d6bf9647",
   "metadata": {},
   "outputs": [],
   "source": [
    "Input=[('scale',StandardScaler()), ('polynomial', PolynomialFeatures(include_bias=False)), ('model',LinearRegression())]\n",
    "pipe=Pipeline(Input)\n",
    "Z = Z.astype(float)\n",
    "pipe.fit(Z,Y)\n",
    "ypipe=pipe.predict(Z)"
   ]
  },
  {
   "cell_type": "code",
   "execution_count": 31,
   "id": "c4bfe064",
   "metadata": {},
   "outputs": [
    {
     "name": "stdout",
     "output_type": "stream",
     "text": [
      "MSE for multi-variable polynomial pipeline is:  123299.09033613445\n",
      "R^2 for multi-variable polynomial pipeline is:  0.624987621991154\n"
     ]
    }
   ],
   "source": [
    "# Evaluate the MSE and R^2\n",
    "print('MSE for multi-variable polynomial pipeline is: ', mean_squared_error(Y, ypipe))\n",
    "print('R^2 for multi-variable polynomial pipeline is: ', r2_score(Y, ypipe))"
   ]
  },
  {
   "cell_type": "markdown",
   "id": "14985995",
   "metadata": {},
   "source": [
    "## Conclusion:\n",
    "\n",
    "It is evident that the values of R^2 inreases from SLR to MLR. Additionally, using polynomial features for MLR produced an even better R^2 value."
   ]
  }
 ],
 "metadata": {
  "kernelspec": {
   "display_name": "Python 3",
   "language": "python",
   "name": "python3"
  },
  "language_info": {
   "codemirror_mode": {
    "name": "ipython",
    "version": 3
   },
   "file_extension": ".py",
   "mimetype": "text/x-python",
   "name": "python",
   "nbconvert_exporter": "python",
   "pygments_lexer": "ipython3",
   "version": "3.8.8"
  }
 },
 "nbformat": 4,
 "nbformat_minor": 5
}
